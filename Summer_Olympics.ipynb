{
  "nbformat": 4,
  "nbformat_minor": 0,
  "metadata": {
    "colab": {
      "name": "Summer_Olympics.ipynb",
      "provenance": []
    },
    "kernelspec": {
      "name": "python3",
      "display_name": "Python 3"
    },
    "language_info": {
      "name": "python"
    }
  },
  "cells": [
    {
      "cell_type": "code",
      "metadata": {
        "id": "6wXjGjFDl2MQ"
      },
      "source": [
        "import pandas as pd\n",
        "import numpy as np\n",
        "\n",
        "df = pd.read_csv(\"summer.csv\")"
      ],
      "execution_count": 3,
      "outputs": []
    },
    {
      "cell_type": "markdown",
      "metadata": {
        "id": "8LKfxKuUmGrE"
      },
      "source": [
        "**1. In how many cities Summer Olympics is held so far?**"
      ]
    },
    {
      "cell_type": "code",
      "metadata": {
        "colab": {
          "base_uri": "https://localhost:8080/"
        },
        "id": "lP1z4CF9oYTz",
        "outputId": "7527935d-79fd-4316-b515-29e61908eda7"
      },
      "source": [
        "len(df['City'].unique())"
      ],
      "execution_count": null,
      "outputs": [
        {
          "output_type": "execute_result",
          "data": {
            "text/plain": [
              "22"
            ]
          },
          "metadata": {},
          "execution_count": 2
        }
      ]
    },
    {
      "cell_type": "markdown",
      "metadata": {
        "id": "iR0TSvnamQDx"
      },
      "source": [
        "**2. Which sport is having most number of Gold Medals so far?**"
      ]
    },
    {
      "cell_type": "code",
      "metadata": {
        "colab": {
          "base_uri": "https://localhost:8080/",
          "height": 345
        },
        "id": "GpxFmEq6UKEW",
        "outputId": "9c209908-2e68-4f91-e948-2d3e33db9c49"
      },
      "source": [
        "rst_df=df.groupby([\"Sport\",\"Medal\"]).size().reset_index(name=\"No of Medals\")\n",
        "rst_df.sort_values('No of Medals',ascending=False)\n",
        "rst_df[rst_df['Medal']=='Gold'].sort_values('No of Medals', ascending=False).head().plot(x='Sport',kind=\"bar\")\n"
      ],
      "execution_count": null,
      "outputs": [
        {
          "output_type": "execute_result",
          "data": {
            "text/plain": [
              "<matplotlib.axes._subplots.AxesSubplot at 0x7f898a88ed50>"
            ]
          },
          "metadata": {},
          "execution_count": 4
        },
        {
          "output_type": "display_data",
          "data": {
            "image/png": "[encoded data removed]",
            "text/plain": [
              "<Figure size 432x288 with 1 Axes>"
            ]
          },
          "metadata": {
            "needs_background": "light"
          }
        }
      ]
    },
    {
      "cell_type": "markdown",
      "metadata": {
        "id": "_ahHOhGZmWDn"
      },
      "source": [
        "**3. Which sport is having most number of medals so far? (Top 5)**"
      ]
    },
    {
      "cell_type": "code",
      "metadata": {
        "colab": {
          "base_uri": "https://localhost:8080/",
          "height": 345
        },
        "id": "fnGD4EAvoi3F",
        "outputId": "15b3efba-7aa4-460d-961b-3bc2b762255c"
      },
      "source": [
        "df = pd.read_csv(\"summer.csv\")\n",
        "data =[]\n",
        "for i in df['Sport'].unique():\n",
        "  data.append([i,len(df[df['Sport']== i])])\n",
        "\n",
        "pd.DataFrame(data,columns=['Sport','Medal']).sort_values(by='Medal',ascending=False).head().plot(x='Sport' ,y = 'Medal',kind='bar')"
      ],
      "execution_count": null,
      "outputs": [
        {
          "output_type": "execute_result",
          "data": {
            "text/plain": [
              "<matplotlib.axes._subplots.AxesSubplot at 0x7f22883d7110>"
            ]
          },
          "metadata": {},
          "execution_count": 4
        },
        {
          "output_type": "display_data",
          "data": {
            "image/png": "[encoded data removed]",
            "text/plain": [
              "<Figure size 432x288 with 1 Axes>"
            ]
          },
          "metadata": {
            "needs_background": "light"
          }
        }
      ]
    },
    {
      "cell_type": "markdown",
      "metadata": {
        "id": "dxp5BtyUmbHU"
      },
      "source": [
        "**4. Which player has won most number of medals? (Top 5)**"
      ]
    },
    {
      "cell_type": "code",
      "metadata": {
        "colab": {
          "base_uri": "https://localhost:8080/",
          "height": 404
        },
        "id": "opHE0HLgpFTW",
        "outputId": "cfe938b1-d949-4ba2-f760-213460fac71d"
      },
      "source": [
        "df = pd.read_csv(\"summer.csv\")\n",
        "data =[]\n",
        "for i in df['Athlete'].unique():\n",
        "  data.append([i,len(df[df['Athlete']== i])])\n",
        "\n",
        "pd.DataFrame(data,columns=['Athlete','Medal']).sort_values(by='Medal',ascending=False).head(7).plot(x='Athlete' ,y = 'Medal',kind='bar')"
      ],
      "execution_count": null,
      "outputs": [
        {
          "output_type": "execute_result",
          "data": {
            "text/plain": [
              "<matplotlib.axes._subplots.AxesSubplot at 0x7f228259d050>"
            ]
          },
          "metadata": {},
          "execution_count": 5
        },
        {
          "output_type": "display_data",
          "data": {
            "image/png": "[encoded data removed]",
            "text/plain": [
              "<Figure size 432x288 with 1 Axes>"
            ]
          },
          "metadata": {
            "needs_background": "light"
          }
        }
      ]
    },
    {
      "cell_type": "markdown",
      "metadata": {
        "id": "Ncu8UnQ8mioG"
      },
      "source": [
        "**5. Which player has won most number Gold Medals of medals? (Top 5)**"
      ]
    },
    {
      "cell_type": "code",
      "metadata": {
        "colab": {
          "base_uri": "https://localhost:8080/",
          "height": 371
        },
        "id": "9jKaTW8yrZEA",
        "outputId": "f3b0b365-3c34-43b3-c569-678105e55784"
      },
      "source": [
        "df = pd.read_csv(\"summer.csv\")\n",
        "rst_df=df.groupby([\"Athlete\",\"Gender\",\"Medal\"]).size().reset_index(name=\"No of Medals\")\n",
        "#rst_df.sort_values('No of Medals',ascending=False).head(5)\n",
        "rst_df.sort_values('No of Medals',ascending=False).head(5).plot(x='Athlete',y='No of Medals',kind=\"bar\")"
      ],
      "execution_count": null,
      "outputs": [
        {
          "output_type": "execute_result",
          "data": {
            "text/plain": [
              "<matplotlib.axes._subplots.AxesSubplot at 0x7f294fea5f50>"
            ]
          },
          "metadata": {},
          "execution_count": 11
        },
        {
          "output_type": "display_data",
          "data": {
            "image/png": "[encoded data removed]",
            "text/plain": [
              "<Figure size 432x288 with 1 Axes>"
            ]
          },
          "metadata": {
            "needs_background": "light"
          }
        }
      ]
    },
    {
      "cell_type": "markdown",
      "metadata": {
        "id": "n2SEGbHOmoMw"
      },
      "source": [
        "**6. In which year India won first Gold Medal in Summer Olympics?**"
      ]
    },
    {
      "cell_type": "code",
      "metadata": {
        "colab": {
          "base_uri": "https://localhost:8080/"
        },
        "id": "BOY0gzgmpayk",
        "outputId": "0bfa555c-4e90-4595-9400-a8f83b5b27a3"
      },
      "source": [
        "df = pd.read_csv(\"summer.csv\")\n",
        "a = df[(df[\"Country\"] == 'IND') & (df[\"Medal\"] == 'Gold')]\n",
        "print(a)"
      ],
      "execution_count": null,
      "outputs": [
        {
          "output_type": "stream",
          "name": "stdout",
          "text": [
            "       Year       City     Sport  ... Gender                     Event Medal\n",
            "5512   1928  Amsterdam    Hockey  ...    Men                    Hockey  Gold\n",
            "5513   1928  Amsterdam    Hockey  ...    Men                    Hockey  Gold\n",
            "5514   1928  Amsterdam    Hockey  ...    Men                    Hockey  Gold\n",
            "5515   1928  Amsterdam    Hockey  ...    Men                    Hockey  Gold\n",
            "5516   1928  Amsterdam    Hockey  ...    Men                    Hockey  Gold\n",
            "...     ...        ...       ...  ...    ...                       ...   ...\n",
            "16099  1980     Moscow    Hockey  ...    Men                    Hockey  Gold\n",
            "16100  1980     Moscow    Hockey  ...    Men                    Hockey  Gold\n",
            "16101  1980     Moscow    Hockey  ...    Men                    Hockey  Gold\n",
            "16102  1980     Moscow    Hockey  ...    Men                    Hockey  Gold\n",
            "28856  2008    Beijing  Shooting  ...    Men  10M Air Rifle (60 Shots)  Gold\n",
            "\n",
            "[128 rows x 9 columns]\n"
          ]
        }
      ]
    },
    {
      "cell_type": "markdown",
      "metadata": {
        "id": "BrWlSprmmtFT"
      },
      "source": [
        "**7. Which event is most popular in terms on number of players? (Top 5)**"
      ]
    },
    {
      "cell_type": "code",
      "metadata": {
        "colab": {
          "base_uri": "https://localhost:8080/",
          "height": 376
        },
        "id": "ayCjGkXluDjw",
        "outputId": "da987f21-cfe1-4371-ff1c-36ed36f3c3c6"
      },
      "source": [
        "df = pd.read_csv(\"summer.csv\")\n",
        "data=[]\n",
        "for event in df['Event'].unique():\n",
        "  data.append([event,len(df[df['Event']== event])])\n",
        "\n",
        "pd.DataFrame(data,columns=['Event','Athlete']).sort_values(by='Athlete',ascending=False).head().plot(x='Event' ,y = 'Athlete',kind='bar')"
      ],
      "execution_count": null,
      "outputs": [
        {
          "output_type": "execute_result",
          "data": {
            "text/plain": [
              "<matplotlib.axes._subplots.AxesSubplot at 0x7f22827d8dd0>"
            ]
          },
          "metadata": {},
          "execution_count": 8
        },
        {
          "output_type": "display_data",
          "data": {
            "image/png": "[encoded data removed]",
            "text/plain": [
              "<Figure size 432x288 with 1 Axes>"
            ]
          },
          "metadata": {
            "needs_background": "light"
          }
        }
      ]
    },
    {
      "cell_type": "markdown",
      "metadata": {
        "id": "nBF1w4u1myjj"
      },
      "source": [
        "**8. Which sport is having most female Gold Medalists? (Top 5)**"
      ]
    },
    {
      "cell_type": "code",
      "metadata": {
        "id": "jL4BN6Lvm5vq",
        "colab": {
          "base_uri": "https://localhost:8080/",
          "height": 345
        },
        "outputId": "b7c86b17-a0cb-4013-d4e7-0235da0f2477"
      },
      "source": [
        "df = pd.read_csv(\"summer.csv\")\n",
        "rst_df=df.groupby([\"Sport\",\"Gender\",\"Medal\"]).size().reset_index(name=\"No of Medals\")\n",
        "rst_df.sort_values('No of Medals',ascending=False)\n",
        "rst_df[(rst_df[\"Gender\"] == 'Women') & (rst_df[\"Medal\"] == 'Gold')].sort_values('No of Medals', ascending=False).head().plot(x='Sport',kind=\"bar\")\n"
      ],
      "execution_count": 5,
      "outputs": [
        {
          "output_type": "execute_result",
          "data": {
            "text/plain": [
              "<matplotlib.axes._subplots.AxesSubplot at 0x7f8997a18390>"
            ]
          },
          "metadata": {},
          "execution_count": 5
        },
        {
          "output_type": "display_data",
          "data": {
            "image/png": "[encoded data removed]",
            "text/plain": [
              "<Figure size 432x288 with 1 Axes>"
            ]
          },
          "metadata": {
            "needs_background": "light"
          }
        }
      ]
    }
  ]
}